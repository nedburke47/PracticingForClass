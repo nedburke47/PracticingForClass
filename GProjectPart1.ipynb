{
  "nbformat": 4,
  "nbformat_minor": 0,
  "metadata": {
    "colab": {
      "name": "GroupProjectPart1.ipynb",
      "provenance": [],
      "authorship_tag": "ABX9TyOCLz1Z9qypJgD+nrJMj6hW",
      "include_colab_link": true
    },
    "kernelspec": {
      "name": "python3",
      "display_name": "Python 3"
    }
  },
  "cells": [
    {
      "cell_type": "markdown",
      "metadata": {
        "id": "view-in-github",
        "colab_type": "text"
      },
      "source": [
        "<a href=\"https://colab.research.google.com/github/nedburke47/PracticingForClass/blob/master/GProjectPart1.ipynb\" target=\"_parent\"><img src=\"https://colab.research.google.com/assets/colab-badge.svg\" alt=\"Open In Colab\"/></a>"
      ]
    },
    {
      "cell_type": "markdown",
      "metadata": {
        "id": "dTk6opsFNJFV",
        "colab_type": "text"
      },
      "source": [
        "### **Electric Delivery**"
      ]
    },
    {
      "cell_type": "markdown",
      "metadata": {
        "id": "up4togsVNJ-O",
        "colab_type": "text"
      },
      "source": [
        "## **what is your idea?**\n"
      ]
    },
    {
      "cell_type": "markdown",
      "metadata": {
        "id": "nm8MROptNnf9",
        "colab_type": "text"
      },
      "source": [
        "A restaurant delivery business that utilizes electric motor cars instead of traditional gas. One can order food on the phone and have it delivered to them by a delivery driver. "
      ]
    },
    {
      "cell_type": "markdown",
      "metadata": {
        "id": "WG-7Sy-hNulQ",
        "colab_type": "text"
      },
      "source": [
        "## **what makes it unique?**"
      ]
    },
    {
      "cell_type": "markdown",
      "metadata": {
        "id": "joX6zl0RN4LO",
        "colab_type": "text"
      },
      "source": [
        "What makes it unique is the fact that we utilize electric cars instead of gas cars. This means we would have to focus on how to power the cars via electric charge as opposed to making sure each car has enough gas. "
      ]
    },
    {
      "cell_type": "markdown",
      "metadata": {
        "id": "70xru0w0N5eQ",
        "colab_type": "text"
      },
      "source": [
        "## **is this a brand-new product or business, or are you borrowing from another business?**"
      ]
    },
    {
      "cell_type": "markdown",
      "metadata": {
        "id": "xREAi5r9N9dd",
        "colab_type": "text"
      },
      "source": [
        "We would be borrowing from another business. The only difference that would be the most noticeable is that electric cars would be used instead of the traditional gas ones."
      ]
    },
    {
      "cell_type": "markdown",
      "metadata": {
        "id": "g6ecHNd-OA2t",
        "colab_type": "text"
      },
      "source": [
        "## **describe a typical business interaction or a day at your business.**"
      ]
    },
    {
      "cell_type": "markdown",
      "metadata": {
        "id": "vQTsCKF_OFyT",
        "colab_type": "text"
      },
      "source": [
        "After arriving, we would need to start cooking the food. After the food is ready to be delivered, we would have a system for how the delivery drivers would deliver the food quickly and efficiently. Each driver would plan a route to make sure that the food was delivered on time. At the end of the day, we would make sure everything was clean and put away and that the cars were all being charged and ready for the next day of delivery. "
      ]
    },
    {
      "cell_type": "markdown",
      "metadata": {
        "id": "Ch94ax6WOI8z",
        "colab_type": "text"
      },
      "source": [
        "## **list your 5 entities/tables and for each, provide details about what data will be stored in the entities/tables.**"
      ]
    },
    {
      "cell_type": "markdown",
      "metadata": {
        "id": "53ZVvSsdOPMJ",
        "colab_type": "text"
      },
      "source": [
        "Entity\n",
        "We would need cooks to cook and prepare the food. \n"
      ]
    },
    {
      "cell_type": "markdown",
      "metadata": {
        "id": "IOHLWzbROTEC",
        "colab_type": "text"
      },
      "source": [
        "Entity\n",
        "\tCustomer service to answer the phone and record orders. \n"
      ]
    },
    {
      "cell_type": "markdown",
      "metadata": {
        "id": "VxHwbEc3OV3C",
        "colab_type": "text"
      },
      "source": [
        "Entity\n",
        "We would need drivers in order to operate the cars\n"
      ]
    },
    {
      "cell_type": "markdown",
      "metadata": {
        "id": "d9xYmtMGObxm",
        "colab_type": "text"
      },
      "source": [
        "Entity\n",
        " We would need electric cars in order to deliver the food.\n"
      ]
    },
    {
      "cell_type": "markdown",
      "metadata": {
        "id": "sfJguw_BOe0B",
        "colab_type": "text"
      },
      "source": [
        "Entity\n",
        "We would need food as the product to deliver to customers\n"
      ]
    },
    {
      "cell_type": "markdown",
      "metadata": {
        "id": "vG526ZQJOjGf",
        "colab_type": "text"
      },
      "source": [
        "![ER Diagram](https://raw.githubusercontent.com/nedburke47/PracticingForClass/master/Project%201.png)\n",
        "\n",
        "---\n",
        "\n"
      ]
    },
    {
      "cell_type": "markdown",
      "metadata": {
        "id": "9bEPvpZaUzSU",
        "colab_type": "text"
      },
      "source": [
        "## **provide a goal for your project**"
      ]
    },
    {
      "cell_type": "markdown",
      "metadata": {
        "id": "s6_9JgAgU3J6",
        "colab_type": "text"
      },
      "source": [
        "Our goal is to run a delivery business that is both economically efficient and environmentally friendly. We hope to accomplish this by using electric cars as opposed to gas cars. "
      ]
    }
  ]
}