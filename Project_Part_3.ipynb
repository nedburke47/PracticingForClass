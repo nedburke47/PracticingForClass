{
  "nbformat": 4,
  "nbformat_minor": 0,
  "metadata": {
    "colab": {
      "name": "Project Part 3",
      "provenance": [],
      "collapsed_sections": [],
      "include_colab_link": true
    },
    "kernelspec": {
      "name": "python3",
      "display_name": "Python 3"
    }
  },
  "cells": [
    {
      "cell_type": "markdown",
      "metadata": {
        "id": "view-in-github",
        "colab_type": "text"
      },
      "source": [
        "<a href=\"https://colab.research.google.com/github/nedburke47/PracticingForClass/blob/master/Project_Part_3.ipynb\" target=\"_parent\"><img src=\"https://colab.research.google.com/assets/colab-badge.svg\" alt=\"Open In Colab\"/></a>"
      ]
    },
    {
      "cell_type": "code",
      "metadata": {
        "id": "S54Rd0sxmpYt",
        "colab": {
          "base_uri": "https://localhost:8080/",
          "height": 71
        },
        "outputId": "b58d3d2c-c88f-4d25-fd87-c231a21959bd"
      },
      "source": [
        "%load_ext sql\n",
        "%sql sqlite:///deliveryService.db"
      ],
      "execution_count": 28,
      "outputs": [
        {
          "output_type": "stream",
          "text": [
            "The sql extension is already loaded. To reload it, use:\n",
            "  %reload_ext sql\n"
          ],
          "name": "stdout"
        },
        {
          "output_type": "execute_result",
          "data": {
            "application/vnd.google.colaboratory.intrinsic+json": {
              "type": "string"
            },
            "text/plain": [
              "'Connected: @deliveryService.db'"
            ]
          },
          "metadata": {
            "tags": []
          },
          "execution_count": 28
        }
      ]
    },
    {
      "cell_type": "code",
      "metadata": {
        "id": "T732tGAY6JE-",
        "colab": {
          "base_uri": "https://localhost:8080/"
        },
        "outputId": "917bd640-65d0-4e47-afaf-ffe37d3e337b"
      },
      "source": [
        "%%sql  \n",
        "DROP TABLE IF EXISTS Cooks;\n",
        "create table Cooks (CookSSN PRIMARY KEY, First Name text, Cook Last Name text, DOB text, Position text);\n",
        "\n",
        "DROP table IF EXISTS Orders;\n",
        "create table Orders (OrderID text PRIMARY KEY, Dish text, Price real, Cook Last Name text, CustomerService Last Name text, Driver Last Name text);\n",
        "\n",
        "DROP table IF EXISTS Customers;\n",
        "create table Customers (IDNumber text PRIMARY KEY, First Name text, Last Name text, DOB text, OrderID text);\n",
        "\n",
        "DROP table IF EXISTS Drivers;\n",
        "create table Drivers ( DriverSSN text PRIMARY KEY, First Name text, Last Name text, License number text, DOB text);\n",
        "\n",
        "DROP table IF EXISTS ElectricCars;\n",
        "create table ElectricCars (License Plate Numbers text PRIMARY KEY, Driver Last Name text, Deliveries text, Model text, Color text);\n",
        "\n",
        "DROP table IF EXISTS CustomerService;\n",
        "create table CustomerService (CustomerServiceSSN text PRIMARY KEY, First Name text, Last Name text, DOB text, Position text );\n",
        "\n",
        "\n",
        "\n",
        "\n",
        "\n",
        "\n"
      ],
      "execution_count": 29,
      "outputs": [
        {
          "output_type": "stream",
          "text": [
            " * sqlite:///deliveryService.db\n",
            "Done.\n",
            "Done.\n",
            "Done.\n",
            "Done.\n",
            "Done.\n",
            "Done.\n",
            "Done.\n",
            "Done.\n",
            "Done.\n",
            "Done.\n",
            "Done.\n",
            "Done.\n"
          ],
          "name": "stdout"
        },
        {
          "output_type": "execute_result",
          "data": {
            "text/plain": [
              "[]"
            ]
          },
          "metadata": {
            "tags": []
          },
          "execution_count": 29
        }
      ]
    },
    {
      "cell_type": "code",
      "metadata": {
        "id": "0-eWaLJb_A1w",
        "colab": {
          "base_uri": "https://localhost:8080/"
        },
        "outputId": "a39c8cde-b1fb-4602-c49e-ebdbb3ae70b7"
      },
      "source": [
        "%%sql\n",
        "insert into Customers values ('19902', 'James', 'Smith', '07/06/2000' , '12910');\n",
        "insert into Customers values ('19203', 'Sarah', 'Williams', '08/19/1992' , '10920');\n",
        "insert into Customers values ('13180', 'Ed', 'Swayze', '02/20/1994' , '12893');\n",
        "insert into Customers values ('18920', 'Maggie', 'Jackman', '04/22/1981' , '10279');\n",
        "insert into Customers values ('18302', 'Patrick', 'Jackson', '04/22/1981' , '19279');\n",
        "\n",
        "\n",
        "\n",
        "insert into Cooks values ('201-191-1819', 'John', 'Prescott', '7/11/1991', 'Line Cook');\n",
        "insert into Cooks values ('102-111-1940', 'Jessica', 'Taylor' , '01/14/1983', 'Line Cook');\n",
        "insert into Cooks values ('782-105-1840', 'Jamie', 'Burke' , '11/07/1999', 'Line Cook');\n",
        "insert into Cooks values ('132-121-5710', 'Elysia', 'McClane' , '02/29/1997', 'Line Cook');\n",
        "insert into Cooks values ('122-951-3820', 'Anthony', 'Vallor' , '04/14/1988', 'Line Cook');\n",
        "\n",
        "insert into Orders values('12910', 'Steak', '23.99', 'Prescott', 'Fitz', 'Franklin');\n",
        "insert into Orders values('10920', 'Fish', '17.99', 'Taylor', 'West', 'Montana');\n",
        "insert into Orders values('10279', 'Soup', '7.99', 'Prescott', 'West', 'Montana');\n",
        "insert into Orders values('12893', 'Steak', '23.99', 'Prescott', 'Fitz', 'Franklin');\n",
        "insert into Orders values('12894', 'Cheesecake', '8.99', 'Taylor', 'West', 'Franklin');\n",
        "\n",
        "\n",
        "insert into Drivers values ('211781010', 'John', 'Franklin', '04/22/2001' , '11084027');\n",
        "insert into Drivers values ('182092733', 'Lucy', 'Montana', '08/21/1999' , '12850378');\n",
        "insert into Drivers values ('282017301', 'Antoine', 'Jay', '08/01/1991' , '14871202');\n",
        "insert into Drivers values ('128930444', 'Thomas', 'Alvarez', '05/22/1989' , '28103820');\n",
        "insert into Drivers values ('123939101', 'Michael', 'Morrow', '04/24/1971' , '28103830');\n",
        "\n",
        "insert into ElectricCars values ('kit-1830', 'Montana', '2', 'Tesla Model X' , 'Blue');\n",
        "insert into ElectricCars values ('ghe-3791', 'Franklin', '3', 'Tesla Model S' , 'Grey');\n",
        "insert into ElectricCars values ('ahd-1839', 'Jay', '0', 'Nissan Leaf' , 'Green');\n",
        "insert into ElectricCars values ('ftj-8966', 'Alvarez', '0', 'Chevy Volt' , 'Black');\n",
        "insert into ElectricCars values ('fvu-9689', 'Morrow', '0', 'Tesla Model X' , 'Grey');\n",
        "\n",
        "insert into CustomerService values( '121-01-2910' , 'Mike', 'West', '02/17/1975', 'Represenative');\n",
        "insert into CustomerService values('192-19-2840', 'Craig', 'Fitz' , '07/8/1995', 'Represenative');\n",
        "insert into CustomerService values('281-20-1830', 'Connor', 'Wells' , '01/9/1992', 'Represenative');\n",
        "insert into CustomerService values('582-29-2330', 'Angie', 'James' , '09/13/1985', 'Represenative');\n",
        "insert into CustomerService values('129-59-2280', 'John', 'Trot' , '7/30/1982', 'Represenative');"
      ],
      "execution_count": 30,
      "outputs": [
        {
          "output_type": "stream",
          "text": [
            " * sqlite:///deliveryService.db\n",
            "1 rows affected.\n",
            "1 rows affected.\n",
            "1 rows affected.\n",
            "1 rows affected.\n",
            "1 rows affected.\n",
            "1 rows affected.\n",
            "1 rows affected.\n",
            "1 rows affected.\n",
            "1 rows affected.\n",
            "1 rows affected.\n",
            "1 rows affected.\n",
            "1 rows affected.\n",
            "1 rows affected.\n",
            "1 rows affected.\n",
            "1 rows affected.\n",
            "1 rows affected.\n",
            "1 rows affected.\n",
            "1 rows affected.\n",
            "1 rows affected.\n",
            "1 rows affected.\n",
            "1 rows affected.\n",
            "1 rows affected.\n",
            "1 rows affected.\n",
            "1 rows affected.\n",
            "1 rows affected.\n",
            "1 rows affected.\n",
            "1 rows affected.\n",
            "1 rows affected.\n",
            "1 rows affected.\n",
            "1 rows affected.\n"
          ],
          "name": "stdout"
        },
        {
          "output_type": "execute_result",
          "data": {
            "text/plain": [
              "[]"
            ]
          },
          "metadata": {
            "tags": []
          },
          "execution_count": 30
        }
      ]
    },
    {
      "cell_type": "markdown",
      "metadata": {
        "id": "H3Yyvsg1knQV"
      },
      "source": [
        "\n",
        "![ER Diagram](https://raw.githubusercontent.com/nedburke47/PracticingForClass/master/Yet%20Another%20Delivery%20Project.png)"
      ]
    },
    {
      "cell_type": "code",
      "metadata": {
        "colab": {
          "base_uri": "https://localhost:8080/",
          "height": 95
        },
        "id": "FQonhnQPIVZX",
        "outputId": "0a99f8a4-0daa-4b22-9a75-4ba7b4af1c41"
      },
      "source": [
        "%%sql\n",
        "select AVG(Price) from Orders"
      ],
      "execution_count": 31,
      "outputs": [
        {
          "output_type": "stream",
          "text": [
            " * sqlite:///deliveryService.db\n",
            "Done.\n"
          ],
          "name": "stdout"
        },
        {
          "output_type": "execute_result",
          "data": {
            "text/html": [
              "<table>\n",
              "    <tr>\n",
              "        <th>AVG(Price)</th>\n",
              "    </tr>\n",
              "    <tr>\n",
              "        <td>16.589999999999996</td>\n",
              "    </tr>\n",
              "</table>"
            ],
            "text/plain": [
              "[(16.589999999999996,)]"
            ]
          },
          "metadata": {
            "tags": []
          },
          "execution_count": 31
        }
      ]
    },
    {
      "cell_type": "markdown",
      "metadata": {
        "id": "lEspjmBUJJXC"
      },
      "source": [
        "“What is the average cost of all the orders”, we wanted to get the average cost of the orders. It would be important because we need to know how money is coming in for orders and how much revenue is getting pulled in for the restaurant. The average price of the orders is $16.59. The results matched our experience because the calculations add up. "
      ]
    },
    {
      "cell_type": "code",
      "metadata": {
        "colab": {
          "base_uri": "https://localhost:8080/",
          "height": 116
        },
        "id": "DlmxX4CDJLIp",
        "outputId": "805f6bdf-1539-443d-a228-42c73ae87ee4"
      },
      "source": [
        "%%sql\n",
        "select Driver, COUNT(Driver) from Orders GROUP by Driver\n",
        " \n"
      ],
      "execution_count": 32,
      "outputs": [
        {
          "output_type": "stream",
          "text": [
            " * sqlite:///deliveryService.db\n",
            "Done.\n"
          ],
          "name": "stdout"
        },
        {
          "output_type": "execute_result",
          "data": {
            "text/html": [
              "<table>\n",
              "    <tr>\n",
              "        <th>Driver</th>\n",
              "        <th>COUNT(Driver)</th>\n",
              "    </tr>\n",
              "    <tr>\n",
              "        <td>Franklin</td>\n",
              "        <td>3</td>\n",
              "    </tr>\n",
              "    <tr>\n",
              "        <td>Montana</td>\n",
              "        <td>2</td>\n",
              "    </tr>\n",
              "</table>"
            ],
            "text/plain": [
              "[('Franklin', 3), ('Montana', 2)]"
            ]
          },
          "metadata": {
            "tags": []
          },
          "execution_count": 32
        }
      ]
    },
    {
      "cell_type": "markdown",
      "metadata": {
        "id": "HnX_4ubqMOsn"
      },
      "source": [
        "\n",
        "“How many orders have the drivers delivered?”, we found out how many orders each driver delivered of the drivers that were on duty that day. Franklin had 3 deliveries while Montana had 2.  Business-wise, this is very important to know how many deliveries are being made because it tells us how efficient our drivers are. This question helped with finding the efficiency of our drivers. These results do match our experience because it correctly calculated the proper drivers. \n"
      ]
    },
    {
      "cell_type": "code",
      "metadata": {
        "colab": {
          "base_uri": "https://localhost:8080/",
          "height": 95
        },
        "id": "4mtHSYtwMYf4",
        "outputId": "45bc67de-a59b-432b-d07e-f96b10d6ac6a"
      },
      "source": [
        "%%sql\n",
        "select SUM(Price) from Orders"
      ],
      "execution_count": 33,
      "outputs": [
        {
          "output_type": "stream",
          "text": [
            " * sqlite:///deliveryService.db\n",
            "Done.\n"
          ],
          "name": "stdout"
        },
        {
          "output_type": "execute_result",
          "data": {
            "text/html": [
              "<table>\n",
              "    <tr>\n",
              "        <th>SUM(Price)</th>\n",
              "    </tr>\n",
              "    <tr>\n",
              "        <td>82.94999999999999</td>\n",
              "    </tr>\n",
              "</table>"
            ],
            "text/plain": [
              "[(82.94999999999999,)]"
            ]
          },
          "metadata": {
            "tags": []
          },
          "execution_count": 33
        }
      ]
    },
    {
      "cell_type": "markdown",
      "metadata": {
        "id": "tAfkQVA1O2wY"
      },
      "source": [
        "\"What is the total sum of the orders?\", The total sum of the prices of all the food we cold is important because it shows out total profits for the day. This is useful, because we can compare profits from day to day and use it to figure out which days we are busiest and which days we are not busy, which will allow us to schedule staff accordingly. The results matched our experience because the calculations add up. "
      ]
    }
  ]
}