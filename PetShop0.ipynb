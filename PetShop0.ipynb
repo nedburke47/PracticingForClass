{
  "nbformat": 4,
  "nbformat_minor": 0,
  "metadata": {
    "colab": {
      "name": "PetShop0.ipynb",
      "provenance": [],
      "authorship_tag": "ABX9TyNXbkNTQM+9aNWUtCorddZo",
      "include_colab_link": true
    },
    "kernelspec": {
      "name": "python3",
      "display_name": "Python 3"
    }
  },
  "cells": [
    {
      "cell_type": "markdown",
      "metadata": {
        "id": "view-in-github",
        "colab_type": "text"
      },
      "source": [
        "<a href=\"https://colab.research.google.com/github/nedburke47/PracticingForClass/blob/master/PetShop0.ipynb\" target=\"_parent\"><img src=\"https://colab.research.google.com/assets/colab-badge.svg\" alt=\"Open In Colab\"/></a>"
      ]
    },
    {
      "cell_type": "code",
      "metadata": {
        "id": "wqTsXNHWl6Wi",
        "outputId": "3d0b2e55-64fb-40cf-9423-a5c98c41ad4c",
        "colab": {
          "base_uri": "https://localhost:8080/",
          "height": 51
        }
      },
      "source": [
        "![Petshop](https://raw.githubusercontent.com/nedburke47/PracticingForClass/master/Images/Petshop.png)"
      ],
      "execution_count": 4,
      "outputs": [
        {
          "output_type": "stream",
          "text": [
            "/bin/bash: -c: line 0: syntax error near unexpected token `https://raw.githubusercontent.com/nedburke47/PracticingForClass/master/Images/Petshop.png'\n",
            "/bin/bash: -c: line 0: `[](https://raw.githubusercontent.com/nedburke47/PracticingForClass/master/Images/Petshop.png)'\n"
          ],
          "name": "stdout"
        }
      ]
    },
    {
      "cell_type": "markdown",
      "metadata": {
        "id": "jZQGEDXWmx2r"
      },
      "source": [
        "My first attribute is pets, who must be kept in enclosures and can only be kept in one enclosure, which is another attribute. An enclosure can have from zero to ten animals at one time. Pets also eat one type of food, which is another attribute. Only one pet can eat one can of food. Employees, another attribute, can sell either food or the pets themselves. Food for sale is a different attribute than the food that the pets eat. Customers are another attribute and are in the system sorted by their loyalty number. Customers can buy from one to five pets at once because store policy prohibits the buying of more pets. Customers usually do not buy more than ten packages of food either at once. They buy this stuff from one and only one employee. "
      ]
    }
  ]
}